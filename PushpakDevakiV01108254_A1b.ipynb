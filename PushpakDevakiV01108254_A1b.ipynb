{
 "cells": [
  {
   "cell_type": "code",
   "execution_count": null,
   "id": "9d35296f",
   "metadata": {
    "ExecuteTime": {
     "end_time": "2024-06-17T18:40:55.517191Z",
     "start_time": "2024-06-17T18:40:55.501554Z"
    }
   },
   "outputs": [],
   "source": [
    "import os\n",
    "import pandas as pd\n",
    "import numpy as np\n",
    "import matplotlib.pyplot as plt\n",
    "import seaborn as sns"
   ]
  },
  {
   "cell_type": "code",
   "execution_count": null,
   "id": "ccea5d65",
   "metadata": {
    "ExecuteTime": {
     "end_time": "2024-06-17T18:41:02.872798Z",
     "start_time": "2024-06-17T18:41:02.864783Z"
    }
   },
   "outputs": [],
   "source": [
    "os.chdir('D:\\\\VCU Bootcamp\\\\SCMA\\\\Data\\\\A1b')"
   ]
  },
  {
   "cell_type": "code",
   "execution_count": null,
   "id": "4e18af9c",
   "metadata": {
    "ExecuteTime": {
     "end_time": "2024-06-17T18:45:43.893820Z",
     "start_time": "2024-06-17T18:45:41.588693Z"
    }
   },
   "outputs": [],
   "source": [
    "ipl_bbb = pd.read_csv('IPL_ball_by_ball_updated till 2024.csv',low_memory=False)"
   ]
  },
  {
   "cell_type": "code",
   "execution_count": null,
   "id": "c9f1dae5",
   "metadata": {
    "ExecuteTime": {
     "end_time": "2024-06-17T18:42:45.099983Z",
     "start_time": "2024-06-17T18:42:44.158183Z"
    }
   },
   "outputs": [],
   "source": [
    "ipl_salary = pd.read_excel('IPL SALARIES 2024.xlsx')"
   ]
  },
  {
   "cell_type": "code",
   "execution_count": null,
   "id": "890ec4e9",
   "metadata": {
    "ExecuteTime": {
     "end_time": "2024-06-17T20:11:18.415809Z",
     "start_time": "2024-06-17T20:11:18.401437Z"
    }
   },
   "outputs": [],
   "source": [
    "ipl_salary.head(2)"
   ]
  },
  {
   "cell_type": "code",
   "execution_count": null,
   "id": "00ad1fbf",
   "metadata": {
    "ExecuteTime": {
     "end_time": "2024-06-17T18:47:30.678527Z",
     "start_time": "2024-06-17T18:47:30.373074Z"
    }
   },
   "outputs": [],
   "source": [
    "grouped_data = ipl_bbb.groupby(['Season', 'Innings No', 'Striker','Bowler']).agg({'runs_scored': sum, 'wicket_confirmation':sum}).reset_index()"
   ]
  },
  {
   "cell_type": "code",
   "execution_count": null,
   "id": "331874aa",
   "metadata": {
    "ExecuteTime": {
     "end_time": "2024-06-17T18:50:49.018065Z",
     "start_time": "2024-06-17T18:50:48.948158Z"
    }
   },
   "outputs": [],
   "source": [
    "player_runs = grouped_data.groupby(['Season', 'Striker'])['runs_scored'].sum().reset_index()\n",
    "player_wickets = grouped_data.groupby(['Season', 'Bowler'])['wicket_confirmation'].sum().reset_index()"
   ]
  },
  {
   "cell_type": "code",
   "execution_count": null,
   "id": "91b9ac8b",
   "metadata": {
    "ExecuteTime": {
     "end_time": "2024-06-17T18:52:26.118735Z",
     "start_time": "2024-06-17T18:52:26.083040Z"
    }
   },
   "outputs": [],
   "source": [
    "player_runs[player_runs['Season']=='2023'].sort_values(by='runs_scored',ascending=False)"
   ]
  },
  {
   "cell_type": "code",
   "execution_count": null,
   "id": "42fc1a03",
   "metadata": {
    "ExecuteTime": {
     "end_time": "2024-06-17T18:54:34.052611Z",
     "start_time": "2024-06-17T18:54:33.921973Z"
    }
   },
   "outputs": [],
   "source": [
    "top_run_getters = player_runs.groupby('Season').apply(lambda x: x.nlargest(3, 'runs_scored')).reset_index(drop=True)\n",
    "bottom_wicket_takers = player_wickets.groupby('Season').apply(lambda x: x.nlargest(3, 'wicket_confirmation')).reset_index(drop=True)\n",
    "print(\"Top Three Run Getters:\")\n",
    "print(top_run_getters)\n",
    "print(\"Top Three Wicket Takers:\")\n",
    "print(bottom_wicket_takers)"
   ]
  },
  {
   "cell_type": "code",
   "execution_count": null,
   "id": "1d8cefcb",
   "metadata": {
    "ExecuteTime": {
     "end_time": "2024-06-17T18:59:43.066908Z",
     "start_time": "2024-06-17T18:59:42.895193Z"
    },
    "scrolled": true
   },
   "outputs": [],
   "source": [
    "ipl_year_id = pd.DataFrame(columns=[\"id\", \"year\"])\n",
    "ipl_year_id[\"id\"] = ipl_bbb[\"Match id\"]\n",
    "ipl_year_id[\"year\"] = pd.to_datetime(ipl_bbb[\"Date\"], dayfirst=True).dt.year"
   ]
  },
  {
   "cell_type": "code",
   "execution_count": null,
   "id": "1ca892df",
   "metadata": {
    "ExecuteTime": {
     "end_time": "2024-06-17T19:08:09.199794Z",
     "start_time": "2024-06-17T19:08:09.036239Z"
    }
   },
   "outputs": [],
   "source": [
    "#create a copy of ipl_bbbc dataframe\n",
    "ipl_bbbc= ipl_bbb.copy()"
   ]
  },
  {
   "cell_type": "code",
   "execution_count": null,
   "id": "05e04474",
   "metadata": {
    "ExecuteTime": {
     "end_time": "2024-06-17T19:08:28.976414Z",
     "start_time": "2024-06-17T19:08:28.839397Z"
    }
   },
   "outputs": [],
   "source": [
    "ipl_bbbc['year'] = pd.to_datetime(ipl_bbb[\"Date\"], dayfirst=True).dt.year"
   ]
  },
  {
   "cell_type": "code",
   "execution_count": null,
   "id": "695a2d7f",
   "metadata": {
    "ExecuteTime": {
     "end_time": "2024-06-17T19:09:02.819985Z",
     "start_time": "2024-06-17T19:09:02.760242Z"
    }
   },
   "outputs": [],
   "source": [
    "ipl_bbbc[[\"Match id\", \"year\", \"runs_scored\",\"wicket_confirmation\",\"Bowler\",'Striker']].head()"
   ]
  },
  {
   "cell_type": "code",
   "execution_count": null,
   "id": "85783410",
   "metadata": {
    "ExecuteTime": {
     "end_time": "2024-06-17T19:11:39.865256Z",
     "start_time": "2024-06-17T19:11:39.853673Z"
    }
   },
   "outputs": [],
   "source": [
    "import scipy.stats as st\n",
    "\n",
    "def get_best_distribution(data):\n",
    "    dist_names = ['alpha','beta','betaprime','burr12','crystalball',\n",
    "                  'dgamma','dweibull','erlang','exponnorm','f','fatiguelife',\n",
    "                  'gamma','gengamma','gumbel_l','johnsonsb','kappa4',\n",
    "                  'lognorm','nct','norm','norminvgauss','powernorm','rice',\n",
    "                  'recipinvgauss','t','trapz','truncnorm']\n",
    "    dist_results = []\n",
    "    params = {}\n",
    "    for dist_name in dist_names:\n",
    "        dist = getattr(st, dist_name)\n",
    "        param = dist.fit(data)\n",
    "        params[dist_name] = param\n",
    "        # Applying the Kolmogorov-Smirnov test\n",
    "        D, p = st.kstest(data, dist_name, args=param)\n",
    "        print(\"p value for \"+dist_name+\" = \"+str(p))\n",
    "        dist_results.append((dist_name, p))\n",
    "    # select the best fitted distribution\n",
    "    best_dist, best_p = (max(dist_results, key=lambda item: item[1]))\n",
    "    # store the name of the best fit and its p value\n",
    "    print(\"\\nBest fitting distribution: \"+str(best_dist))\n",
    "    print(\"Best p value: \"+ str(best_p))\n",
    "    print(\"Parameters for the best fit: \"+ str(params[best_dist]))\n",
    "    return best_dist, best_p, params[best_dist]"
   ]
  },
  {
   "cell_type": "code",
   "execution_count": null,
   "id": "55e15b78",
   "metadata": {
    "ExecuteTime": {
     "end_time": "2024-06-17T19:12:26.492491Z",
     "start_time": "2024-06-17T19:12:26.388891Z"
    }
   },
   "outputs": [],
   "source": [
    "total_run_each_year = ipl_bbbc.groupby([\"year\", \"Striker\"])[\"runs_scored\"].sum().reset_index()"
   ]
  },
  {
   "cell_type": "code",
   "execution_count": null,
   "id": "7ddf1dfe",
   "metadata": {
    "ExecuteTime": {
     "end_time": "2024-06-17T19:13:56.257180Z",
     "start_time": "2024-06-17T19:13:56.244475Z"
    }
   },
   "outputs": [],
   "source": [
    "total_run_each_year.sort_values([\"year\", \"runs_scored\"], ascending=False, inplace=True)\n",
    "print(total_run_each_year)"
   ]
  },
  {
   "cell_type": "code",
   "execution_count": null,
   "id": "d75c7310",
   "metadata": {
    "ExecuteTime": {
     "end_time": "2024-06-17T19:16:23.864219Z",
     "start_time": "2024-06-17T19:16:23.854326Z"
    }
   },
   "outputs": [],
   "source": [
    "list_top_batsman_last_three_year = {}\n",
    "for i in total_run_each_year[\"year\"].unique()[:3]:\n",
    "    list_top_batsman_last_three_year[i] = total_run_each_year[total_run_each_year.year == i][:3][\"Striker\"].unique().tolist()"
   ]
  },
  {
   "cell_type": "code",
   "execution_count": null,
   "id": "c5b07d43",
   "metadata": {
    "ExecuteTime": {
     "end_time": "2024-06-17T19:16:29.605035Z",
     "start_time": "2024-06-17T19:16:29.596636Z"
    }
   },
   "outputs": [],
   "source": [
    "list_top_batsman_last_three_year"
   ]
  },
  {
   "cell_type": "code",
   "execution_count": null,
   "id": "80d9466a",
   "metadata": {
    "ExecuteTime": {
     "end_time": "2024-06-17T19:22:35.982497Z",
     "start_time": "2024-06-17T19:21:10.039474Z"
    }
   },
   "outputs": [],
   "source": [
    "import warnings\n",
    "warnings.filterwarnings('ignore')\n",
    "runs = ipl_bbbc.groupby(['Striker','Match id'])[['runs_scored']].sum().reset_index()\n",
    "\n",
    "for key in list_top_batsman_last_three_year:\n",
    "    for Striker in list_top_batsman_last_three_year[key]:\n",
    "        print(\"************************\")\n",
    "        print(\"year:\", key, \" Batsman:\", Striker)\n",
    "        get_best_distribution(runs[runs[\"Striker\"] == Striker][\"runs_scored\"])\n",
    "        print(\"\\n\\n\")"
   ]
  },
  {
   "cell_type": "code",
   "execution_count": null,
   "id": "2ff8cda8",
   "metadata": {
    "ExecuteTime": {
     "end_time": "2024-06-17T19:22:49.634423Z",
     "start_time": "2024-06-17T19:22:49.547942Z"
    }
   },
   "outputs": [],
   "source": [
    "total_wicket_each_year = ipl_bbbc.groupby([\"year\", \"Bowler\"])[\"wicket_confirmation\"].sum().reset_index()"
   ]
  },
  {
   "cell_type": "code",
   "execution_count": null,
   "id": "b6a46d55",
   "metadata": {
    "ExecuteTime": {
     "end_time": "2024-06-17T19:23:10.311435Z",
     "start_time": "2024-06-17T19:23:10.298595Z"
    }
   },
   "outputs": [],
   "source": [
    "total_wicket_each_year.sort_values([\"year\", \"wicket_confirmation\"], ascending=False, inplace=True)\n",
    "print(total_wicket_each_year)"
   ]
  },
  {
   "cell_type": "code",
   "execution_count": null,
   "id": "837998fd",
   "metadata": {
    "ExecuteTime": {
     "end_time": "2024-06-17T19:24:02.853357Z",
     "start_time": "2024-06-17T19:24:02.840409Z"
    }
   },
   "outputs": [],
   "source": [
    "list_top_bowler_last_three_year = {}\n",
    "for i in total_wicket_each_year[\"year\"].unique()[:3]:\n",
    "    list_top_bowler_last_three_year[i] = total_wicket_each_year[total_wicket_each_year.year == i][:3][\"Bowler\"].unique().tolist()\n",
    "list_top_bowler_last_three_year"
   ]
  },
  {
   "cell_type": "code",
   "execution_count": null,
   "id": "6bab9324",
   "metadata": {
    "ExecuteTime": {
     "end_time": "2024-06-17T19:41:47.739428Z",
     "start_time": "2024-06-17T19:40:24.043467Z"
    },
    "scrolled": true
   },
   "outputs": [],
   "source": [
    "import warnings\n",
    "warnings.filterwarnings('ignore')\n",
    "wickets = ipl_bbbc.groupby(['Bowler','Match id'])[['wicket_confirmation']].sum().reset_index()\n",
    "\n",
    "for key in list_top_bowler_last_three_year:\n",
    "    for bowler in list_top_bowler_last_three_year[key]:\n",
    "        print(\"************************\")\n",
    "        print(\"year:\", key, \" Bowler:\", bowler)\n",
    "        get_best_distribution(wickets[wickets[\"Bowler\"] == bowler][\"wicket_confirmation\"])\n",
    "        print(\"\\n\\n\")"
   ]
  },
  {
   "cell_type": "code",
   "execution_count": null,
   "id": "b41fac3c-7e63-493e-a38e-00d9be8e2751",
   "metadata": {
    "ExecuteTime": {
     "end_time": "2024-06-17T19:41:47.739428Z",
     "start_time": "2024-06-17T19:40:24.043467Z"
    },
    "scrolled": true
   },
   "outputs": [],
   "source": [
    "import warnings\n",
    "warnings.filterwarnings('ignore')\n",
    "wickets = ipl_bbbc.groupby(['Bowler','Match id'])[['wicket_confirmation']].sum().reset_index()\n",
    "\n",
    "for key in list_top_bowler_last_three_year:\n",
    "    for bowler in list_top_bowler_last_three_year[key]:\n",
    "        print(\"************************\")\n",
    "        print(\"year:\", key, \" Bowler:\", bowler)\n",
    "        get_best_distribution(wickets[wickets[\"Bowler\"] == bowler][\"wicket_confirmation\"])\n",
    "        print(\"\\n\\n\")"
   ]
  },
  {
   "cell_type": "code",
   "execution_count": null,
   "id": "e798c68a-2d7f-417b-9385-00bef5f9370d",
   "metadata": {
    "ExecuteTime": {
     "end_time": "2024-06-17T19:41:47.739428Z",
     "start_time": "2024-06-17T19:40:24.043467Z"
    },
    "scrolled": true
   },
   "outputs": [
    {
     "name": "stdout",
     "output_type": "stream",
     "text": [
      "************************\n",
      "year: 2024  Bowler: HV Patel\n",
      "p value for alpha = 0.0002993252328930706\n",
      "p value for beta = 2.777571908776589e-19\n",
      "p value for betaprime = 1.7052883875145053e-30\n",
      "p value for burr12 = 5.427998338605459e-15\n",
      "p value for crystalball = 1.1109118198587684e-05\n",
      "p value for dgamma = 4.375428528574276e-05\n",
      "p value for dweibull = 1.8553295107771936e-05\n",
      "p value for erlang = 5.473635282991912e-24\n",
      "p value for exponnorm = 0.0002813279943461815\n",
      "p value for f = 1.9012983291282487e-09\n",
      "p value for fatiguelife = 1.9734428958773156e-05\n",
      "p value for gamma = 1.470787431589663e-16\n",
      "p value for gengamma = 1.4345058849022962e-16\n",
      "p value for gumbel_l = 4.541523588271283e-05\n",
      "p value for johnsonsb = 2.827201329331457e-51\n",
      "p value for kappa4 = 9.177530010006471e-23\n",
      "p value for lognorm = 5.2162358572043325e-22\n",
      "p value for nct = 0.0001960277304576293\n",
      "p value for norm = 1.1109124960635979e-05\n",
      "p value for norminvgauss = 3.811196478020768e-05\n",
      "p value for powernorm = 3.2186417463058256e-05\n",
      "p value for rice = 3.354567282896991e-05\n",
      "p value for recipinvgauss = 5.05058721389515e-12\n",
      "p value for t = 9.451105792399515e-05\n",
      "p value for trapz = 1.0447243016629734e-51\n",
      "p value for truncnorm = 0.0002182292327632623\n",
      "\n",
      "Best fitting distribution: alpha\n",
      "Best p value: 0.0002993252328930706\n",
      "Parameters for the best fit: (5.200800514990576, -4.106246473111661, 27.580368990504883)\n",
      "\n",
      "\n",
      "\n",
      "************************\n",
      "year: 2024  Bowler: Mukesh Kumar\n",
      "p value for alpha = 0.6028771589628603\n",
      "p value for beta = 0.01195401496533166\n",
      "p value for betaprime = 0.001059893235946907\n",
      "p value for burr12 = 0.13577547952316893\n",
      "p value for crystalball = 0.2874602836058904\n",
      "p value for dgamma = 0.31965148068347327\n",
      "p value for dweibull = 0.34346643238289587\n",
      "p value for erlang = 1.0115032724485677e-06\n",
      "p value for exponnorm = 0.5154597105302978\n",
      "p value for f = 0.11745949856748239\n",
      "p value for fatiguelife = 0.30877430134651196\n",
      "p value for gamma = 0.009841759821405782\n",
      "p value for gengamma = 0.07933719921899518\n",
      "p value for gumbel_l = 0.25997636144422587\n",
      "p value for johnsonsb = 0.0878807795320421\n",
      "p value for kappa4 = 0.058739565059041765\n",
      "p value for lognorm = 0.00048729251059054235\n",
      "p value for nct = 0.5480580718802858\n",
      "p value for norm = 0.2874600799525868\n",
      "p value for norminvgauss = 0.3895684674359622\n",
      "p value for powernorm = 0.39511432172869\n",
      "p value for rice = 0.3950169895189477\n",
      "p value for recipinvgauss = 0.025198651172109288\n",
      "p value for t = 0.2874574742538948\n",
      "p value for trapz = 9.722628535925783e-06\n",
      "p value for truncnorm = 0.2598105493516787\n",
      "\n",
      "Best fitting distribution: alpha\n",
      "Best p value: 0.6028771589628603\n",
      "Parameters for the best fit: (6.113363581345144, -5.245777123804531, 39.57745263632695)\n",
      "\n",
      "\n",
      "\n",
      "************************\n",
      "year: 2024  Bowler: Arshdeep Singh\n",
      "p value for alpha = 0.002547644307209551\n",
      "p value for beta = 3.7725133611153275e-15\n",
      "p value for betaprime = 5.062381659741898e-22\n",
      "p value for burr12 = 4.603956720503075e-14\n",
      "p value for crystalball = 0.0002501762149918564\n",
      "p value for dgamma = 0.00028566200697101806\n",
      "p value for dweibull = 0.0016211491850549598\n",
      "p value for erlang = 2.269289539862191e-12\n",
      "p value for exponnorm = 0.0019097947631203649\n",
      "p value for f = 0.000227258408802241\n",
      "p value for fatiguelife = 2.169103029961132e-15\n",
      "p value for gamma = 6.618486511618167e-29\n",
      "p value for gengamma = 5.948936850168967e-23\n",
      "p value for gumbel_l = 0.00026864389982599567\n",
      "p value for johnsonsb = 5.472387372640376e-24\n",
      "p value for kappa4 = 8.181970339328129e-12\n",
      "p value for lognorm = 1.9909678840157557e-12\n",
      "p value for nct = 0.0014257070102444702\n",
      "p value for norm = 0.00025017539197677184\n",
      "p value for norminvgauss = 0.0001290021448063343\n",
      "p value for powernorm = 0.00047137775975730436\n",
      "p value for rice = 0.00047472774494963083\n",
      "p value for recipinvgauss = 1.9623061606588953e-10\n",
      "p value for t = 0.004473243416688644\n",
      "p value for trapz = 1.1911079182772876e-29\n",
      "p value for truncnorm = 0.00034221379785853717\n",
      "\n",
      "Best fitting distribution: t\n",
      "Best p value: 0.004473243416688644\n",
      "Parameters for the best fit: (4.822497644715119, 1.1162819391895469, 0.9153269129308039)\n",
      "\n",
      "\n",
      "\n",
      "************************\n",
      "year: 2023  Bowler: MM Sharma\n",
      "p value for alpha = 5.261792307574885e-09\n",
      "p value for beta = 3.369903415982389e-18\n",
      "p value for betaprime = 3.4236065288569164e-34\n",
      "p value for burr12 = 7.707563359968149e-27\n",
      "p value for crystalball = 5.614290141391915e-05\n",
      "p value for dgamma = 1.0498635614441156e-05\n",
      "p value for dweibull = 2.4126502201215078e-05\n",
      "p value for erlang = 2.203151538560566e-17\n",
      "p value for exponnorm = 7.116980583029457e-10\n",
      "p value for f = 6.394862208673673e-10\n",
      "p value for fatiguelife = 1.3371709463319658e-24\n",
      "p value for gamma = 2.599880000032353e-21\n",
      "p value for gengamma = 9.811276806787944e-14\n",
      "p value for gumbel_l = 3.5245319536008275e-05\n",
      "p value for johnsonsb = 2.4461951672713995e-40\n",
      "p value for kappa4 = 1.804941215806713e-17\n",
      "p value for lognorm = 1.7804559351656542e-19\n",
      "p value for nct = 6.513780696080299e-05\n",
      "p value for norm = 5.614083233477072e-05\n",
      "p value for norminvgauss = 2.385888242491267e-11\n",
      "p value for powernorm = 3.7448415090755237e-05\n",
      "p value for rice = 3.8846082842387146e-05\n",
      "p value for recipinvgauss = 1.932872667384276e-17\n",
      "p value for t = 0.00012008020713636171\n",
      "p value for trapz = 9.04818074400941e-47\n",
      "p value for truncnorm = 6.39486602704708e-10\n",
      "\n",
      "Best fitting distribution: t\n",
      "Best p value: 0.00012008020713636171\n",
      "Parameters for the best fit: (29.05846643939152, 1.2878076424619436, 1.197404368883093)\n",
      "\n",
      "\n",
      "\n",
      "************************\n",
      "year: 2023  Bowler: Mohammed Shami\n",
      "p value for alpha = 0.0005609846480252995\n",
      "p value for beta = 8.949702621553806e-16\n",
      "p value for betaprime = 1.0457228098472159e-27\n",
      "p value for burr12 = 3.809437306589196e-09\n",
      "p value for crystalball = 8.97379813361614e-06\n",
      "p value for dgamma = 1.3065638273544516e-11\n",
      "p value for dweibull = 1.0406851960138218e-05\n",
      "p value for erlang = 8.670599832745995e-28\n",
      "p value for exponnorm = 0.00047630665162716083\n",
      "p value for f = 2.404756281608377e-07\n",
      "p value for fatiguelife = 7.5219130194197114e-06\n",
      "p value for gamma = 5.248327144461885e-42\n",
      "p value for gengamma = 4.371554773381843e-42\n",
      "p value for gumbel_l = 2.275582226089825e-06\n",
      "p value for johnsonsb = 8.40193769288202e-62\n",
      "p value for kappa4 = 5.440679375551408e-12\n",
      "p value for lognorm = 8.538407160860825e-23\n",
      "p value for nct = 0.0003740512893746841\n",
      "p value for norm = 8.973880770320002e-06\n",
      "p value for norminvgauss = 3.3178705246034226e-05\n",
      "p value for powernorm = 0.00011849751955444802\n",
      "p value for rice = 0.00011833002960228116\n"
     ]
    }
   ],
   "source": [
    "import warnings\n",
    "warnings.filterwarnings('ignore')\n",
    "wickets = ipl_bbbc.groupby(['Bowler','Match id'])[['wicket_confirmation']].sum().reset_index()\n",
    "\n",
    "for key in list_top_bowler_last_three_year:\n",
    "    for bowler in list_top_bowler_last_three_year[key]:\n",
    "        print(\"************************\")\n",
    "        print(\"year:\", key, \" Bowler:\", bowler)\n",
    "        get_best_distribution(wickets[wickets[\"Bowler\"] == bowler][\"wicket_confirmation\"])\n",
    "        print(\"\\n\\n\")"
   ]
  },
  {
   "cell_type": "code",
   "execution_count": null,
   "id": "0fe50381-bf98-4c0a-af10-566f9ffeadb2",
   "metadata": {},
   "outputs": [],
   "source": [
    "# Filter the runs scored by Q de Kock\n",
    "Q_de_Kock_runs = runs[runs[\"Striker\"] == \"Q de Kock\"][\"runs_scored\"]\n",
    "\n",
    "# Fit the distribution to Q de Kock's runs scored\n",
    "get_best_distribution(Q_de_Kock_runs)"
   ]
  },
  {
   "cell_type": "markdown",
   "id": "3738f046",
   "metadata": {
    "ExecuteTime": {
     "end_time": "2024-06-17T19:30:56.139137Z",
     "start_time": "2024-06-17T19:30:56.136008Z"
    }
   },
   "source": [
    "**Relationship between the performance of a player and the salary he gets**"
   ]
  },
  {
   "cell_type": "code",
   "execution_count": null,
   "id": "789ddaf2",
   "metadata": {
    "ExecuteTime": {
     "end_time": "2024-06-17T19:57:30.473869Z",
     "start_time": "2024-06-17T19:57:30.467885Z"
    }
   },
   "outputs": [],
   "source": [
    "R2024 =total_run_each_year[total_run_each_year['year']==2024]"
   ]
  },
  {
   "cell_type": "code",
   "execution_count": null,
   "id": "6ba9a083",
   "metadata": {
    "ExecuteTime": {
     "end_time": "2024-06-17T20:15:26.949292Z",
     "start_time": "2024-06-17T20:15:26.944738Z"
    }
   },
   "outputs": [],
   "source": [
    "pip install fuzzywuzzy"
   ]
  },
  {
   "cell_type": "code",
   "execution_count": null,
   "id": "ccd0c41e",
   "metadata": {
    "ExecuteTime": {
     "end_time": "2024-06-17T20:15:41.651153Z",
     "start_time": "2024-06-17T20:15:33.461692Z"
    }
   },
   "outputs": [],
   "source": [
    "from fuzzywuzzy import process\n",
    "\n",
    "# Convert to DataFrame\n",
    "df_salary = ipl_salary.copy()\n",
    "df_runs = R2024.copy()\n",
    "\n",
    "# Function to match names\n",
    "def match_names(name, names_list):\n",
    "    match, score = process.extractOne(name, names_list)\n",
    "    return match if score >= 80 else None  # Use a threshold score of 80\n",
    "\n",
    "# Create a new column in df_salary with matched names from df_runs\n",
    "df_salary['Matched_Player'] = df_salary['Player'].apply(lambda x: match_names(x, df_runs['Striker'].tolist()))\n",
    "\n",
    "# Merge the DataFrames on the matched names\n",
    "df_merged = pd.merge(df_salary, df_runs, left_on='Matched_Player', right_on='Striker')"
   ]
  },
  {
   "cell_type": "code",
   "execution_count": null,
   "id": "307e8a5f",
   "metadata": {
    "ExecuteTime": {
     "end_time": "2024-06-17T20:08:31.379361Z",
     "start_time": "2024-06-17T20:08:31.346734Z"
    }
   },
   "outputs": [],
   "source": [
    "df_merged.info()"
   ]
  },
  {
   "cell_type": "code",
   "execution_count": null,
   "id": "d24035b7",
   "metadata": {
    "ExecuteTime": {
     "end_time": "2024-06-17T20:08:37.821228Z",
     "start_time": "2024-06-17T20:08:37.774094Z"
    }
   },
   "outputs": [],
   "source": [
    "# Calculate the correlation\n",
    "correlation = df_merged['Rs'].corr(df_merged['runs_scored'])\n",
    "\n",
    "print(\"Correlation between Salary and Runs:\", correlation)"
   ]
  },
  {
   "cell_type": "code",
   "execution_count": null,
   "id": "4fb485cb-6b65-4e6c-83a9-c1c251277241",
   "metadata": {},
   "outputs": [],
   "source": []
  },
  {
   "cell_type": "code",
   "execution_count": null,
   "id": "647a595c-006d-465e-afd0-b9cbad196c33",
   "metadata": {},
   "outputs": [],
   "source": []
  }
 ],
 "metadata": {
  "kernelspec": {
   "display_name": "Python 3 (ipykernel)",
   "language": "python",
   "name": "python3"
  },
  "language_info": {
   "codemirror_mode": {
    "name": "ipython",
    "version": 3
   },
   "file_extension": ".py",
   "mimetype": "text/x-python",
   "name": "python",
   "nbconvert_exporter": "python",
   "pygments_lexer": "ipython3",
   "version": "3.11.7"
  },
  "varInspector": {
   "cols": {
    "lenName": 16,
    "lenType": 16,
    "lenVar": 40
   },
   "kernels_config": {
    "python": {
     "delete_cmd_postfix": "",
     "delete_cmd_prefix": "del ",
     "library": "var_list.py",
     "varRefreshCmd": "print(var_dic_list())"
    },
    "r": {
     "delete_cmd_postfix": ") ",
     "delete_cmd_prefix": "rm(",
     "library": "var_list.r",
     "varRefreshCmd": "cat(var_dic_list()) "
    }
   },
   "types_to_exclude": [
    "module",
    "function",
    "builtin_function_or_method",
    "instance",
    "_Feature"
   ],
   "window_display": false
  }
 },
 "nbformat": 4,
 "nbformat_minor": 5
}
